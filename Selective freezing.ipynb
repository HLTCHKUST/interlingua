{
 "cells": [
  {
   "cell_type": "markdown",
   "id": "b59c970f-4f3e-4afb-9f1e-3075d240650d",
   "metadata": {},
   "source": [
    "# Selective Freezing"
   ]
  },
  {
   "cell_type": "code",
   "execution_count": 1,
   "id": "3376067a-11a3-4e74-9bf7-efbe06efa221",
   "metadata": {},
   "outputs": [],
   "source": [
    "import os\n",
    "from transformers import AutoModelForCausalLM\n",
    "\n",
    "from src.param_freeze import selective_grad_freeze\n",
    "\n",
    "os.environ['CUDA_VISIBLE_DEVICES'] = '4'"
   ]
  },
  {
   "cell_type": "code",
   "execution_count": 2,
   "id": "ce294349-e5bf-47de-8bf2-3c8a23c7b4cf",
   "metadata": {},
   "outputs": [
    {
     "data": {
      "application/vnd.jupyter.widget-view+json": {
       "model_id": "0bf6bd820abd464a83b3ddc6ba699bce",
       "version_major": 2,
       "version_minor": 0
      },
      "text/plain": [
       "Loading checkpoint shards:   0%|          | 0/4 [00:00<?, ?it/s]"
      ]
     },
     "metadata": {},
     "output_type": "display_data"
    }
   ],
   "source": [
    "model_name = 'meta-llama/Meta-Llama-3.1-8B'\n",
    "model = AutoModelForCausalLM.from_pretrained(model_name, device_map=\"cuda\")"
   ]
  },
  {
   "cell_type": "markdown",
   "id": "ac68d485-2e3d-47f1-a854-dbba363b3286",
   "metadata": {},
   "source": [
    "## Inspect Trainable Parameters in Model Layers"
   ]
  },
  {
   "cell_type": "code",
   "execution_count": 3,
   "id": "5512ebf3-053a-4123-a43c-7cc95047e708",
   "metadata": {
    "scrolled": true
   },
   "outputs": [
    {
     "name": "stdout",
     "output_type": "stream",
     "text": [
      "Layer 0 True\n",
      "Layer 0 True\n",
      "Layer 0 True\n",
      "Layer 0 True\n",
      "Layer 0 True\n",
      "Layer 0 True\n",
      "Layer 0 True\n",
      "Layer 0 True\n",
      "Layer 0 True\n",
      "Layer 1 True\n",
      "Layer 1 True\n",
      "Layer 1 True\n",
      "Layer 1 True\n",
      "Layer 1 True\n",
      "Layer 1 True\n",
      "Layer 1 True\n",
      "Layer 1 True\n",
      "Layer 1 True\n",
      "Layer 2 True\n",
      "Layer 2 True\n",
      "Layer 2 True\n",
      "Layer 2 True\n",
      "Layer 2 True\n",
      "Layer 2 True\n",
      "Layer 2 True\n",
      "Layer 2 True\n",
      "Layer 2 True\n",
      "Layer 3 True\n",
      "Layer 3 True\n",
      "Layer 3 True\n",
      "Layer 3 True\n",
      "Layer 3 True\n",
      "Layer 3 True\n",
      "Layer 3 True\n",
      "Layer 3 True\n",
      "Layer 3 True\n",
      "Layer 4 True\n",
      "Layer 4 True\n",
      "Layer 4 True\n",
      "Layer 4 True\n",
      "Layer 4 True\n",
      "Layer 4 True\n",
      "Layer 4 True\n",
      "Layer 4 True\n",
      "Layer 4 True\n",
      "Layer 5 True\n",
      "Layer 5 True\n",
      "Layer 5 True\n",
      "Layer 5 True\n",
      "Layer 5 True\n",
      "Layer 5 True\n",
      "Layer 5 True\n",
      "Layer 5 True\n",
      "Layer 5 True\n",
      "Layer 6 True\n",
      "Layer 6 True\n",
      "Layer 6 True\n",
      "Layer 6 True\n",
      "Layer 6 True\n",
      "Layer 6 True\n",
      "Layer 6 True\n",
      "Layer 6 True\n",
      "Layer 6 True\n",
      "Layer 7 True\n",
      "Layer 7 True\n",
      "Layer 7 True\n",
      "Layer 7 True\n",
      "Layer 7 True\n",
      "Layer 7 True\n",
      "Layer 7 True\n",
      "Layer 7 True\n",
      "Layer 7 True\n",
      "Layer 8 True\n",
      "Layer 8 True\n",
      "Layer 8 True\n",
      "Layer 8 True\n",
      "Layer 8 True\n",
      "Layer 8 True\n",
      "Layer 8 True\n",
      "Layer 8 True\n",
      "Layer 8 True\n",
      "Layer 9 True\n",
      "Layer 9 True\n",
      "Layer 9 True\n",
      "Layer 9 True\n",
      "Layer 9 True\n",
      "Layer 9 True\n",
      "Layer 9 True\n",
      "Layer 9 True\n",
      "Layer 9 True\n",
      "Embed True\n",
      "Norm True\n",
      "LM head True\n"
     ]
    }
   ],
   "source": [
    "for layer_id in range(0,10):\n",
    "    for param in model.model.layers[layer_id].parameters():\n",
    "        print('Layer', layer_id, param.requires_grad)\n",
    "\n",
    "for param in model.model.embed_tokens.parameters():\n",
    "    print('Embed', param.requires_grad)\n",
    "\n",
    "for param in model.model.norm.parameters():\n",
    "    print('Norm', param.requires_grad)\n",
    "\n",
    "for param in model.lm_head.parameters():\n",
    "    print('LM head', param.requires_grad)"
   ]
  },
  {
   "cell_type": "markdown",
   "id": "98b499f6-0f73-4a5b-b72a-a5a8b67d39cb",
   "metadata": {},
   "source": [
    "## Freezing\n",
    "\n",
    "The ```selective_grad_freeze``` function is set to default of freezing the first 8 layers, the token embedding, final layer normalization, and the language modeling head (output projection layer)."
   ]
  },
  {
   "cell_type": "code",
   "execution_count": 4,
   "id": "a411b94e-9309-4030-96a6-dfb70e1314ac",
   "metadata": {},
   "outputs": [
    {
     "data": {
      "text/plain": [
       "\u001b[0;31mSignature:\u001b[0m \u001b[0mselective_grad_freeze\u001b[0m\u001b[0;34m(\u001b[0m\u001b[0mmodel\u001b[0m\u001b[0;34m,\u001b[0m \u001b[0mn_first\u001b[0m\u001b[0;34m=\u001b[0m\u001b[0;36m8\u001b[0m\u001b[0;34m,\u001b[0m \u001b[0membed\u001b[0m\u001b[0;34m=\u001b[0m\u001b[0;32mTrue\u001b[0m\u001b[0;34m,\u001b[0m \u001b[0mfinal\u001b[0m\u001b[0;34m=\u001b[0m\u001b[0;32mTrue\u001b[0m\u001b[0;34m)\u001b[0m\u001b[0;34m\u001b[0m\u001b[0;34m\u001b[0m\u001b[0m\n",
       "\u001b[0;31mDocstring:\u001b[0m\n",
       "Selectively freezing trainable parameters.\n",
       "Default is to freeze the first 8 layers, the token embedding, final layer normalization, \n",
       "and the language modeling head (output projection layer).\n",
       "\u001b[0;31mFile:\u001b[0m      ~/interlingua_pub/src/param_freeze.py\n",
       "\u001b[0;31mType:\u001b[0m      function\n"
      ]
     },
     "metadata": {},
     "output_type": "display_data"
    }
   ],
   "source": [
    "selective_grad_freeze?"
   ]
  },
  {
   "cell_type": "code",
   "execution_count": 5,
   "id": "71a96239-17b7-4e4c-a637-486784236fda",
   "metadata": {},
   "outputs": [
    {
     "name": "stdout",
     "output_type": "stream",
     "text": [
      "Freezing\n",
      "Done\n"
     ]
    }
   ],
   "source": [
    "selective_grad_freeze(model)"
   ]
  },
  {
   "cell_type": "markdown",
   "id": "dc967231-f2d8-479a-b8ac-352fd9aaf7e6",
   "metadata": {},
   "source": [
    "## Inspect Trainable Parameters in Model Layers After Selective Freezing"
   ]
  },
  {
   "cell_type": "code",
   "execution_count": 6,
   "id": "7d6399ad-d9d7-440c-b844-c1766ffed5c8",
   "metadata": {
    "scrolled": true
   },
   "outputs": [
    {
     "name": "stdout",
     "output_type": "stream",
     "text": [
      "Layer 0 False\n",
      "Layer 0 False\n",
      "Layer 0 False\n",
      "Layer 0 False\n",
      "Layer 0 False\n",
      "Layer 0 False\n",
      "Layer 0 False\n",
      "Layer 0 False\n",
      "Layer 0 False\n",
      "Layer 1 False\n",
      "Layer 1 False\n",
      "Layer 1 False\n",
      "Layer 1 False\n",
      "Layer 1 False\n",
      "Layer 1 False\n",
      "Layer 1 False\n",
      "Layer 1 False\n",
      "Layer 1 False\n",
      "Layer 2 False\n",
      "Layer 2 False\n",
      "Layer 2 False\n",
      "Layer 2 False\n",
      "Layer 2 False\n",
      "Layer 2 False\n",
      "Layer 2 False\n",
      "Layer 2 False\n",
      "Layer 2 False\n",
      "Layer 3 False\n",
      "Layer 3 False\n",
      "Layer 3 False\n",
      "Layer 3 False\n",
      "Layer 3 False\n",
      "Layer 3 False\n",
      "Layer 3 False\n",
      "Layer 3 False\n",
      "Layer 3 False\n",
      "Layer 4 False\n",
      "Layer 4 False\n",
      "Layer 4 False\n",
      "Layer 4 False\n",
      "Layer 4 False\n",
      "Layer 4 False\n",
      "Layer 4 False\n",
      "Layer 4 False\n",
      "Layer 4 False\n",
      "Layer 5 False\n",
      "Layer 5 False\n",
      "Layer 5 False\n",
      "Layer 5 False\n",
      "Layer 5 False\n",
      "Layer 5 False\n",
      "Layer 5 False\n",
      "Layer 5 False\n",
      "Layer 5 False\n",
      "Layer 6 False\n",
      "Layer 6 False\n",
      "Layer 6 False\n",
      "Layer 6 False\n",
      "Layer 6 False\n",
      "Layer 6 False\n",
      "Layer 6 False\n",
      "Layer 6 False\n",
      "Layer 6 False\n",
      "Layer 7 False\n",
      "Layer 7 False\n",
      "Layer 7 False\n",
      "Layer 7 False\n",
      "Layer 7 False\n",
      "Layer 7 False\n",
      "Layer 7 False\n",
      "Layer 7 False\n",
      "Layer 7 False\n",
      "Layer 8 False\n",
      "Layer 8 False\n",
      "Layer 8 False\n",
      "Layer 8 False\n",
      "Layer 8 False\n",
      "Layer 8 False\n",
      "Layer 8 False\n",
      "Layer 8 False\n",
      "Layer 8 False\n",
      "Layer 9 True\n",
      "Layer 9 True\n",
      "Layer 9 True\n",
      "Layer 9 True\n",
      "Layer 9 True\n",
      "Layer 9 True\n",
      "Layer 9 True\n",
      "Layer 9 True\n",
      "Layer 9 True\n",
      "Embed False\n",
      "Norm False\n",
      "LM head False\n"
     ]
    }
   ],
   "source": [
    "for layer_id in range(0,10):\n",
    "    for param in model.model.layers[layer_id].parameters():\n",
    "        print('Layer', layer_id, param.requires_grad)\n",
    "\n",
    "for param in model.model.embed_tokens.parameters():\n",
    "    print('Embed', param.requires_grad)\n",
    "\n",
    "for param in model.model.norm.parameters():\n",
    "    print('Norm', param.requires_grad)\n",
    "\n",
    "for param in model.lm_head.parameters():\n",
    "    print('LM head', param.requires_grad)"
   ]
  }
 ],
 "metadata": {
  "kernelspec": {
   "display_name": "reasoning",
   "language": "python",
   "name": "reasoning"
  },
  "language_info": {
   "codemirror_mode": {
    "name": "ipython",
    "version": 3
   },
   "file_extension": ".py",
   "mimetype": "text/x-python",
   "name": "python",
   "nbconvert_exporter": "python",
   "pygments_lexer": "ipython3",
   "version": "3.10.4"
  }
 },
 "nbformat": 4,
 "nbformat_minor": 5
}
